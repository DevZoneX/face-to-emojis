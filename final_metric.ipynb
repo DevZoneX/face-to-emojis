{
 "cells": [
  {
   "cell_type": "code",
   "execution_count": 30,
   "metadata": {},
   "outputs": [],
   "source": [
    "import pandas as pd\n",
    "import numpy as np\n",
    "from model_utils.model import EmotionCNN\n",
    "import cv2\n",
    "import torch\n",
    "from PIL import Image\n",
    "import torchvision.transforms as transforms\n",
    "import torch.nn.functional as F\n",
    "from deepface import DeepFace\n",
    "import mediapipe as mp\n",
    "import os\n",
    "from matplotlib import pyplot as plt"
   ]
  },
  {
   "cell_type": "markdown",
   "metadata": {},
   "source": [
    "## Variables"
   ]
  },
  {
   "cell_type": "code",
   "execution_count": null,
   "metadata": {},
   "outputs": [
    {
     "data": {
      "text/plain": [
       "EmotionCNN(\n",
       "  (conv1): Conv2d(1, 64, kernel_size=(3, 3), stride=(1, 1), padding=(1, 1))\n",
       "  (bn1): BatchNorm2d(64, eps=1e-05, momentum=0.1, affine=True, track_running_stats=True)\n",
       "  (conv2): Conv2d(64, 128, kernel_size=(3, 3), stride=(1, 1), padding=(1, 1))\n",
       "  (bn2): BatchNorm2d(128, eps=1e-05, momentum=0.1, affine=True, track_running_stats=True)\n",
       "  (pool1): MaxPool2d(kernel_size=2, stride=2, padding=0, dilation=1, ceil_mode=False)\n",
       "  (conv3): Conv2d(128, 256, kernel_size=(3, 3), stride=(1, 1), padding=(1, 1))\n",
       "  (bn3): BatchNorm2d(256, eps=1e-05, momentum=0.1, affine=True, track_running_stats=True)\n",
       "  (pool2): MaxPool2d(kernel_size=2, stride=2, padding=0, dilation=1, ceil_mode=False)\n",
       "  (conv4): Conv2d(256, 512, kernel_size=(3, 3), stride=(1, 1), padding=(1, 1))\n",
       "  (bn4): BatchNorm2d(512, eps=1e-05, momentum=0.1, affine=True, track_running_stats=True)\n",
       "  (pool3): MaxPool2d(kernel_size=2, stride=2, padding=0, dilation=1, ceil_mode=False)\n",
       "  (conv5): Conv2d(512, 1024, kernel_size=(3, 3), stride=(1, 1), padding=(1, 1))\n",
       "  (bn5): BatchNorm2d(1024, eps=1e-05, momentum=0.1, affine=True, track_running_stats=True)\n",
       "  (pool4): MaxPool2d(kernel_size=2, stride=2, padding=0, dilation=1, ceil_mode=False)\n",
       "  (global_avg_pool): AdaptiveAvgPool2d(output_size=(1, 1))\n",
       "  (fc1): Linear(in_features=1024, out_features=256, bias=True)\n",
       "  (fc2): Linear(in_features=256, out_features=8, bias=True)\n",
       "  (dropout): Dropout(p=0.5, inplace=False)\n",
       ")"
      ]
     },
     "execution_count": 8,
     "metadata": {},
     "output_type": "execute_result"
    }
   ],
   "source": [
    "device = torch.device('cuda' if torch.cuda.is_available() else 'cpu')\n",
    "\n",
    "model_type = \"EmotionCNN\"\n",
    "emotion_labels = [\"Angry\", \"Contempt\", \"Disgust\", \"Fear\", \"Happy\", \"Neutral\", \"Sad\",\n",
    "                  \"Surprise\"] if model_type == \"EmotionCNN\" else [\"Angry\", \"Disgust\", \"Fear\", \"Happy\", \"Neutral\", \"Sad\", \"Surprise\"]\n",
    "\n",
    "\n",
    "df = pd.read_csv(\"datasets/df.csv\")\n",
    "measures_features = [\"mouth_opening\", \"left_eye_opening\",\n",
    "                     \"right_eye_opening\", \"smile_width\"]\n",
    "emotions_features = [\"anger\", \"contempt\", \"disgust\",\n",
    "                     \"fear\", \"joy\", \"neutral\", \"sadness\", \"surprise\"]\n",
    "data_measures = df[measures_features].to_numpy()\n",
    "data_emotions = df[emotions_features].to_numpy()\n",
    "\n",
    "vector_measures = np.array([10, 9, 9, 40])\n",
    "vector_emotions = np.array([0.125]*8)\n",
    "\n",
    "face_cascade = cv2.CascadeClassifier(\n",
    "    cv2.data.haarcascades + 'haarcascade_frontalface_default.xml')\n",
    "\n",
    "\n",
    "trained_model = EmotionCNN().to(device)\n",
    "trained_model.load_state_dict(torch.load(\n",
    "    'models/emotion_all_cnn3.pth', map_location=device, weights_only=True))\n",
    "trained_model.eval()\n",
    "\n",
    "image_to_index = {\n",
    "    \"j1\": 0, \"j2\": 1, \"n1\": 2, \"n2\": 3, \"s1\": 5, \"s2\": 6,\n",
    "    \"a1\": 7, \"a2\": 8, \"d1\": 11, \"d2\": 12, \"su1\": 13, \"su2\": 14\n",
    "}\n",
    "image_folder = \"datasets/df_metric\""
   ]
  },
  {
   "cell_type": "markdown",
   "metadata": {},
   "source": [
    "## Functions"
   ]
  },
  {
   "cell_type": "code",
   "execution_count": 37,
   "metadata": {},
   "outputs": [],
   "source": [
    "def compute_distance(point1, point2):\n",
    "    return np.linalg.norm(np.array(point1) - np.array(point2))\n",
    "\n",
    "def analyze_face_landmarks(image, landmarks):\n",
    "    MOUTH_POINTS = [13, 14, 78, 308]\n",
    "    EYE_POINTS = {\n",
    "        \"left\": [145, 159],\n",
    "        \"right\": [374, 386]\n",
    "    }\n",
    "\n",
    "    h, w, _ = image.shape\n",
    "    results = {}\n",
    "\n",
    "    coords = [(int(landmark.x * w), int(landmark.y * h))\n",
    "              for landmark in landmarks.landmark]\n",
    "\n",
    "    mouth_opening = compute_distance(\n",
    "        coords[MOUTH_POINTS[0]], coords[MOUTH_POINTS[1]])\n",
    "    results[\"mouth_opening\"] = mouth_opening\n",
    "\n",
    "    left_eye_opening = compute_distance(\n",
    "        coords[EYE_POINTS[\"left\"][0]], coords[EYE_POINTS[\"left\"][1]])\n",
    "    right_eye_opening = compute_distance(\n",
    "        coords[EYE_POINTS[\"right\"][0]], coords[EYE_POINTS[\"right\"][1]])\n",
    "    results[\"eye_opening\"] = {\n",
    "        \"left\": left_eye_opening, \"right\": right_eye_opening}\n",
    "\n",
    "    smile_width = compute_distance(\n",
    "        coords[MOUTH_POINTS[2]], coords[MOUTH_POINTS[3]])\n",
    "    results[\"smile_width\"] = smile_width\n",
    "\n",
    "    return results\n",
    "\n",
    "\n",
    "mp_face_mesh = mp.solutions.face_mesh\n",
    "face_mesh = mp_face_mesh.FaceMesh(refine_landmarks=True, max_num_faces=1)\n",
    "\n",
    "\n",
    "def get_vector_measures(frame):\n",
    "    if len(frame.shape) == 2:\n",
    "        frame = cv2.cvtColor(frame, cv2.COLOR_GRAY2RGB)\n",
    "    result = face_mesh.process(frame)\n",
    "    vector_measure = [10, 9, 9, 40]\n",
    "\n",
    "    if result.multi_face_landmarks:\n",
    "        face_landmarks = result.multi_face_landmarks[0]\n",
    "        analysis = analyze_face_landmarks(frame, face_landmarks)\n",
    "        vector_measure = [analysis['mouth_opening'], analysis['eye_opening']['left'],\n",
    "                          analysis['eye_opening']['right'], analysis['smile_width']]\n",
    "\n",
    "    return vector_measure\n",
    "\n",
    "transform = transforms.Compose([\n",
    "    transforms.Grayscale(num_output_channels=1),\n",
    "    transforms.Resize((48, 48)),\n",
    "    transforms.ToTensor(),\n",
    "    transforms.Normalize(mean=[0.5], std=[0.5])\n",
    "])\n",
    "\n",
    "def predict_emotion(face_roi):\n",
    "    \"\"\"Predicts emotion based on the selected model.\"\"\"\n",
    "        # Process face ROI for EmotionCNN model\n",
    "    face_img = Image.fromarray(face_roi).convert('L')\n",
    "    face_tensor = transform(face_img).unsqueeze(0).to(device)\n",
    "    with torch.no_grad():\n",
    "\n",
    "        output = trained_model(face_tensor)\n",
    "        probabilities = F.softmax(output, dim=1)\n",
    "\n",
    "    return probabilities.squeeze(0).numpy()\n",
    "\n",
    "\n"
   ]
  },
  {
   "cell_type": "markdown",
   "metadata": {},
   "source": [
    "## Evaluation"
   ]
  },
  {
   "cell_type": "code",
   "execution_count": null,
   "metadata": {},
   "outputs": [],
   "source": [
    "def evaluate_image(image, alpha_emotions):\n",
    "    # Get the vector of emotions and measures\n",
    "    vector_emotions = predict_emotion(image)\n",
    "    vector_measures = get_vector_measures(image)\n",
    "    \n",
    "    # Compute the distances\n",
    "    distances_measures = np.linalg.norm(\n",
    "        data_measures - vector_measures, axis=1)\n",
    "    distances_emotions = np.linalg.norm(\n",
    "        data_emotions - vector_emotions, axis=1)\n",
    "    \n",
    "    # Deduce the probabilities\n",
    "    # proba_measures = np.exp(distances_measures) / \\\n",
    "    #     np.sum(np.exp(distances_measures))\n",
    "    # proba_emotions = np.exp(distances_emotions) / \\\n",
    "    #     np.sum(np.exp(distances_emotions))\n",
    "    proba_measures = distances_measures / np.sum(distances_measures)\n",
    "    proba_emotions = distances_emotions / np.sum(distances_emotions)\n",
    "    \n",
    "    # Combine the probabilities\n",
    "    proba_final = alpha_emotions * proba_emotions + \\\n",
    "        (1 - alpha_emotions) * proba_measures\n",
    "        \n",
    "    idx = np.argmin(proba_final)\n",
    "    return idx"
   ]
  },
  {
   "cell_type": "code",
   "execution_count": 35,
   "metadata": {},
   "outputs": [],
   "source": [
    "def evaluate_method(alpha_emotions):\n",
    "    total_images = 0\n",
    "    correct_predictions = 0\n",
    "    for filename in os.listdir(image_folder):\n",
    "        if filename.endswith(('.png', '.jpg', '.jpeg', '.bmp')):\n",
    "            image_key = filename[:2]\n",
    "            if image_key in image_to_index:\n",
    "                expected_index = image_to_index[image_key]\n",
    "\n",
    "                image_path = os.path.join(image_folder, filename)\n",
    "                image = cv2.imread(image_path, cv2.IMREAD_GRAYSCALE)\n",
    "\n",
    "                predicted_index = evaluate_image(image, alpha_emotions)\n",
    "\n",
    "                if predicted_index == expected_index:\n",
    "                    correct_predictions += 1\n",
    "                total_images += 1\n",
    "\n",
    "    accuracy = correct_predictions / total_images if total_images > 0 else 0\n",
    "\n",
    "    return accuracy"
   ]
  },
  {
   "cell_type": "code",
   "execution_count": 39,
   "metadata": {},
   "outputs": [
    {
     "name": "stdout",
     "output_type": "stream",
     "text": [
      "Alpha: 0.0 -> Accuracy: 0.1031\n",
      "Alpha: 0.2 -> Accuracy: 0.1031\n",
      "Alpha: 0.4 -> Accuracy: 0.1031\n",
      "Alpha: 0.6 -> Accuracy: 0.1031\n",
      "Alpha: 0.8 -> Accuracy: 0.1031\n",
      "Alpha: 1.0 -> Accuracy: 0.0\n"
     ]
    },
    {
     "data": {
      "image/png": "[encoded data removed]",
      "text/plain": [
       "<Figure size 1000x600 with 1 Axes>"
      ]
     },
     "metadata": {},
     "output_type": "display_data"
    }
   ],
   "source": [
    "def plot_accuracy(step = 0.2):\n",
    "    alphas = np.arange(0, 1.05, step) \n",
    "    accuracies = []\n",
    "\n",
    "    for alpha in alphas:\n",
    "        accuracy = evaluate_method(alpha)\n",
    "        print(f\"Alpha: {round(alpha,4)} -> Accuracy: {round(accuracy, 4)}\")\n",
    "        accuracies.append(accuracy)\n",
    "\n",
    "    plt.figure(figsize=(10, 6))\n",
    "    plt.plot(alphas, accuracies, marker='o')\n",
    "    plt.title(\"Accuracy en fonction de alpha_emotions\")\n",
    "    plt.xlabel(\"alpha_emotions\")\n",
    "    plt.ylabel(\"Accuracy\")\n",
    "    plt.grid(True)\n",
    "    plt.show()\n",
    "\n",
    "\n",
    "plot_accuracy()"
   ]
  }
 ],
 "metadata": {
  "kernelspec": {
   "display_name": "myenv",
   "language": "python",
   "name": "python3"
  },
  "language_info": {
   "codemirror_mode": {
    "name": "ipython",
    "version": 3
   },
   "file_extension": ".py",
   "mimetype": "text/x-python",
   "name": "python",
   "nbconvert_exporter": "python",
   "pygments_lexer": "ipython3",
   "version": "3.11.5"
  }
 },
 "nbformat": 4,
 "nbformat_minor": 2
}
