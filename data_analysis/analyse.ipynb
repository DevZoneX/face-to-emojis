{
 "cells": [
  {
   "cell_type": "code",
   "execution_count": 1,
   "metadata": {},
   "outputs": [],
   "source": [
    "import pandas as pd"
   ]
  },
  {
   "cell_type": "code",
   "execution_count": 7,
   "metadata": {},
   "outputs": [
    {
     "name": "stdout",
     "output_type": "stream",
     "text": [
      "There are 3176 .jpg files in the directory.\n",
      "There are 7213 .jpg files in the directory.\n"
     ]
    }
   ],
   "source": [
    "import os\n",
    "\n",
    "directory_path1 = '../data2/fear/'\n",
    "directory_path2 = '../data/train/fear/'\n",
    "\n",
    "jpg_count1 = sum(1 for file in os.listdir(directory_path1) if file.lower().endswith('.jpg'))\n",
    "jpg_count2 = sum(1 for file in os.listdir(directory_path2) if file.lower().endswith('.jpg'))\n",
    "\n",
    "print(f\"There are {jpg_count1} .jpg files in the directory.\")\n",
    "print(f\"There are {jpg_count2} .jpg files in the directory.\")\n"
   ]
  },
  {
   "cell_type": "code",
   "execution_count": 13,
   "metadata": {},
   "outputs": [
    {
     "name": "stdout",
     "output_type": "stream",
     "text": [
      "All files have been moved successfully.\n"
     ]
    }
   ],
   "source": [
    "import shutil\n",
    "\n",
    "source_folder = '../data2/surprise/'\n",
    "destination_folder = '../data3/train/surprise/'\n",
    "\n",
    "for filename in os.listdir(source_folder):\n",
    "    source_file = os.path.join(source_folder, filename)\n",
    "    destination_file = os.path.join(destination_folder, filename)\n",
    "\n",
    "    if os.path.isfile(source_file):\n",
    "        shutil.move(source_file, destination_file)\n",
    "\n",
    "print(\"All files have been moved successfully.\")\n"
   ]
  }
 ],
 "metadata": {
  "kernelspec": {
   "display_name": "cv_project",
   "language": "python",
   "name": "python3"
  },
  "language_info": {
   "codemirror_mode": {
    "name": "ipython",
    "version": 3
   },
   "file_extension": ".py",
   "mimetype": "text/x-python",
   "name": "python",
   "nbconvert_exporter": "python",
   "pygments_lexer": "ipython3",
   "version": "3.12.3"
  }
 },
 "nbformat": 4,
 "nbformat_minor": 2
}
